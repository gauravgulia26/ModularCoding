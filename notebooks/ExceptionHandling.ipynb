{
 "cells": [
  {
   "cell_type": "code",
   "execution_count": 8,
   "metadata": {},
   "outputs": [],
   "source": [
    "import os, sys\n",
    "\n",
    "\n",
    "class CustomException(Exception):\n",
    "    \"\"\"\n",
    "    Custom exception class that logs error details including the error message,\n",
    "    the module where the error occurred, and the line number.\n",
    "    \"\"\"\n",
    "\n",
    "    def __init__(self, message):\n",
    "        \"\"\"\n",
    "        Initialize the exception with a message and log the error details.\n",
    "\n",
    "        Parameters:\n",
    "            message (str): Description of the error.\n",
    "        \"\"\"\n",
    "        # Capture the current exception information\n",
    "        _, _, exc_tb = sys.exc_info()\n",
    "        if exc_tb:\n",
    "            # Extract the filename and line number where the exception occurred\n",
    "            filename = os.path.split(exc_tb.tb_frame.f_code.co_filename)[1]\n",
    "            line_number = exc_tb.tb_lineno\n",
    "        else:\n",
    "            filename = \"N/A\"\n",
    "            line_number = \"N/A\"\n",
    "\n",
    "        # Construct the detailed error message\n",
    "        error_details = f\"Error in {filename} at line {line_number}: {message}\"\n",
    "\n",
    "        # Log the error details\n",
    "        print(error_details)\n",
    "\n",
    "        # Initialize the base Exception class with the detailed error message\n",
    "        super().__init__(error_details)"
   ]
  },
  {
   "cell_type": "code",
   "execution_count": 9,
   "metadata": {},
   "outputs": [
    {
     "name": "stdout",
     "output_type": "stream",
     "text": [
      "Error in 3767133558.py at line 16: Attempted to divide by zero.\n",
      "Error in 3767133558.py at line 16: Attempted to divide by zero.\n"
     ]
    }
   ],
   "source": [
    "def divide(a, b):\n",
    "    \"\"\"\n",
    "    Divide two numbers and handle division by zero error.\n",
    "\n",
    "    Parameters:\n",
    "        a (float): Numerator.\n",
    "        b (float): Denominator.\n",
    "\n",
    "    Returns:\n",
    "        float: Result of division.\n",
    "\n",
    "    Raises:\n",
    "        CustomException: If division by zero is attempted.\n",
    "    \"\"\"\n",
    "    try:\n",
    "        return a / b\n",
    "    except ZeroDivisionError:\n",
    "        raise CustomException(\"Attempted to divide by zero.\")\n",
    "\n",
    "\n",
    "# Example usage\n",
    "try:\n",
    "    result = divide(10, 0)\n",
    "except CustomException as e:\n",
    "    print(e)"
   ]
  },
  {
   "cell_type": "code",
   "execution_count": 20,
   "metadata": {},
   "outputs": [
    {
     "name": "stdout",
     "output_type": "stream",
     "text": [
      "An error occurred:\n",
      "  Type: <class 'ZeroDivisionError'>\n",
      "  Message: division by zero\n",
      "  Traceback: <traceback object at 0x75bdbf46cfc0>\n"
     ]
    }
   ],
   "source": [
    "import sys\n",
    "\n",
    "\n",
    "def divide(a, b):\n",
    "    try:\n",
    "        result = a / b\n",
    "        print(f\"The result is: {result}\")\n",
    "    except Exception:\n",
    "        exc_type, exc_value, exc_traceback = sys.exc_info()\n",
    "        print(f\"An error occurred:\")\n",
    "        print(f\"  Type: {exc_type}\")\n",
    "        print(f\"  Message: {exc_value}\")\n",
    "        print(f\"  Traceback: {exc_traceback}\")\n",
    "        return exc_traceback, exc_type\n",
    "        # Optionally, you can raise the exception again if needed\n",
    "        # raise\n",
    "\n",
    "\n",
    "# Example usage\n",
    "traceback, meesage = divide(10, 0)"
   ]
  },
  {
   "cell_type": "code",
   "execution_count": 21,
   "metadata": {},
   "outputs": [],
   "source": [
    "filename = traceback.tb_frame.f_code.co_filename\n",
    "linenumber = traceback.tb_lineno"
   ]
  },
  {
   "cell_type": "code",
   "execution_count": 22,
   "metadata": {},
   "outputs": [
    {
     "data": {
      "text/plain": [
       "'/tmp/ipykernel_53980/565905490.py'"
      ]
     },
     "execution_count": 22,
     "metadata": {},
     "output_type": "execute_result"
    }
   ],
   "source": [
    "filename"
   ]
  },
  {
   "cell_type": "code",
   "execution_count": 23,
   "metadata": {},
   "outputs": [
    {
     "data": {
      "text/plain": [
       "ZeroDivisionError"
      ]
     },
     "execution_count": 23,
     "metadata": {},
     "output_type": "execute_result"
    }
   ],
   "source": [
    "meesage"
   ]
  },
  {
   "cell_type": "code",
   "execution_count": null,
   "metadata": {},
   "outputs": [],
   "source": []
  }
 ],
 "metadata": {
  "kernelspec": {
   "display_name": "MachineLearning",
   "language": "python",
   "name": "python3"
  },
  "language_info": {
   "codemirror_mode": {
    "name": "ipython",
    "version": 3
   },
   "file_extension": ".py",
   "mimetype": "text/x-python",
   "name": "python",
   "nbconvert_exporter": "python",
   "pygments_lexer": "ipython3",
   "version": "3.12.9"
  }
 },
 "nbformat": 4,
 "nbformat_minor": 2
}
